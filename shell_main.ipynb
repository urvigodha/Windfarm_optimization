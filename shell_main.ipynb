{
  "nbformat": 4,
  "nbformat_minor": 0,
  "metadata": {
    "colab": {
      "name": "shell_main",
      "provenance": []
    },
    "kernelspec": {
      "name": "python3",
      "display_name": "Python 3"
    }
  },
  "cells": [
    {
      "cell_type": "code",
      "metadata": {
        "id": "qz2tnr3WywTV"
      },
      "source": [
        "import pandas as pd\n",
        "import numpy as np"
      ],
      "execution_count": null,
      "outputs": []
    },
    {
      "cell_type": "code",
      "metadata": {
        "id": "UGrPeTR21jF-"
      },
      "source": [
        "wind07 = pd.read_csv('/content/drive/My Drive/Shell_Windfarm_Optimization/Shell_Hackathon Dataset/Wind Data/wind_data_2007.csv')"
      ],
      "execution_count": null,
      "outputs": []
    },
    {
      "cell_type": "code",
      "metadata": {
        "id": "8BAFksUY1xTK",
        "outputId": "1b069769-f553-4ede-e7d6-6d920729a17c",
        "colab": {
          "base_uri": "https://localhost:8080/",
          "height": 204
        }
      },
      "source": [
        "wind07.head()"
      ],
      "execution_count": null,
      "outputs": [
        {
          "output_type": "execute_result",
          "data": {
            "text/html": [
              "<div>\n",
              "<style scoped>\n",
              "    .dataframe tbody tr th:only-of-type {\n",
              "        vertical-align: middle;\n",
              "    }\n",
              "\n",
              "    .dataframe tbody tr th {\n",
              "        vertical-align: top;\n",
              "    }\n",
              "\n",
              "    .dataframe thead th {\n",
              "        text-align: right;\n",
              "    }\n",
              "</style>\n",
              "<table border=\"1\" class=\"dataframe\">\n",
              "  <thead>\n",
              "    <tr style=\"text-align: right;\">\n",
              "      <th></th>\n",
              "      <th>date</th>\n",
              "      <th>drct</th>\n",
              "      <th>sped</th>\n",
              "    </tr>\n",
              "  </thead>\n",
              "  <tbody>\n",
              "    <tr>\n",
              "      <th>0</th>\n",
              "      <td>2007-01-01 00:20</td>\n",
              "      <td>290.0</td>\n",
              "      <td>12.829798</td>\n",
              "    </tr>\n",
              "    <tr>\n",
              "      <th>1</th>\n",
              "      <td>2007-01-01 00:50</td>\n",
              "      <td>290.0</td>\n",
              "      <td>15.842659</td>\n",
              "    </tr>\n",
              "    <tr>\n",
              "      <th>2</th>\n",
              "      <td>2007-01-01 01:20</td>\n",
              "      <td>290.0</td>\n",
              "      <td>15.270610</td>\n",
              "    </tr>\n",
              "    <tr>\n",
              "      <th>3</th>\n",
              "      <td>2007-01-01 01:50</td>\n",
              "      <td>300.0</td>\n",
              "      <td>13.332094</td>\n",
              "    </tr>\n",
              "    <tr>\n",
              "      <th>4</th>\n",
              "      <td>2007-01-01 02:20</td>\n",
              "      <td>290.0</td>\n",
              "      <td>12.639211</td>\n",
              "    </tr>\n",
              "  </tbody>\n",
              "</table>\n",
              "</div>"
            ],
            "text/plain": [
              "               date   drct       sped\n",
              "0  2007-01-01 00:20  290.0  12.829798\n",
              "1  2007-01-01 00:50  290.0  15.842659\n",
              "2  2007-01-01 01:20  290.0  15.270610\n",
              "3  2007-01-01 01:50  300.0  13.332094\n",
              "4  2007-01-01 02:20  290.0  12.639211"
            ]
          },
          "metadata": {
            "tags": []
          },
          "execution_count": 3
        }
      ]
    },
    {
      "cell_type": "code",
      "metadata": {
        "id": "B9vChXZP1yuf",
        "outputId": "8ffee0ea-79f9-426b-e59d-a079cb587355",
        "colab": {
          "base_uri": "https://localhost:8080/",
          "height": 34
        }
      },
      "source": [
        "wind07.shape"
      ],
      "execution_count": null,
      "outputs": [
        {
          "output_type": "execute_result",
          "data": {
            "text/plain": [
              "(15548, 3)"
            ]
          },
          "metadata": {
            "tags": []
          },
          "execution_count": 4
        }
      ]
    },
    {
      "cell_type": "code",
      "metadata": {
        "id": "8mSmpkss1z0H",
        "outputId": "127560ad-156f-4806-b651-b4cc4bb51360",
        "colab": {
          "base_uri": "https://localhost:8080/",
          "height": 297
        }
      },
      "source": [
        "wind07.describe()"
      ],
      "execution_count": null,
      "outputs": [
        {
          "output_type": "execute_result",
          "data": {
            "text/html": [
              "<div>\n",
              "<style scoped>\n",
              "    .dataframe tbody tr th:only-of-type {\n",
              "        vertical-align: middle;\n",
              "    }\n",
              "\n",
              "    .dataframe tbody tr th {\n",
              "        vertical-align: top;\n",
              "    }\n",
              "\n",
              "    .dataframe thead th {\n",
              "        text-align: right;\n",
              "    }\n",
              "</style>\n",
              "<table border=\"1\" class=\"dataframe\">\n",
              "  <thead>\n",
              "    <tr style=\"text-align: right;\">\n",
              "      <th></th>\n",
              "      <th>drct</th>\n",
              "      <th>sped</th>\n",
              "    </tr>\n",
              "  </thead>\n",
              "  <tbody>\n",
              "    <tr>\n",
              "      <th>count</th>\n",
              "      <td>15548.000000</td>\n",
              "      <td>15548.000000</td>\n",
              "    </tr>\n",
              "    <tr>\n",
              "      <th>mean</th>\n",
              "      <td>203.832004</td>\n",
              "      <td>8.961912</td>\n",
              "    </tr>\n",
              "    <tr>\n",
              "      <th>std</th>\n",
              "      <td>93.268753</td>\n",
              "      <td>4.612641</td>\n",
              "    </tr>\n",
              "    <tr>\n",
              "      <th>min</th>\n",
              "      <td>10.000000</td>\n",
              "      <td>0.680265</td>\n",
              "    </tr>\n",
              "    <tr>\n",
              "      <th>25%</th>\n",
              "      <td>150.000000</td>\n",
              "      <td>5.415578</td>\n",
              "    </tr>\n",
              "    <tr>\n",
              "      <th>50%</th>\n",
              "      <td>210.000000</td>\n",
              "      <td>8.532853</td>\n",
              "    </tr>\n",
              "    <tr>\n",
              "      <th>75%</th>\n",
              "      <td>270.000000</td>\n",
              "      <td>11.820551</td>\n",
              "    </tr>\n",
              "    <tr>\n",
              "      <th>max</th>\n",
              "      <td>360.000000</td>\n",
              "      <td>29.879753</td>\n",
              "    </tr>\n",
              "  </tbody>\n",
              "</table>\n",
              "</div>"
            ],
            "text/plain": [
              "               drct          sped\n",
              "count  15548.000000  15548.000000\n",
              "mean     203.832004      8.961912\n",
              "std       93.268753      4.612641\n",
              "min       10.000000      0.680265\n",
              "25%      150.000000      5.415578\n",
              "50%      210.000000      8.532853\n",
              "75%      270.000000     11.820551\n",
              "max      360.000000     29.879753"
            ]
          },
          "metadata": {
            "tags": []
          },
          "execution_count": 5
        }
      ]
    },
    {
      "cell_type": "code",
      "metadata": {
        "id": "583edTry13EV",
        "outputId": "0b0d2e02-f25a-4cda-e8e3-65965c18d901",
        "colab": {
          "base_uri": "https://localhost:8080/",
          "height": 85
        }
      },
      "source": [
        "wind07.isnull().sum()"
      ],
      "execution_count": null,
      "outputs": [
        {
          "output_type": "execute_result",
          "data": {
            "text/plain": [
              "date    0\n",
              "drct    0\n",
              "sped    0\n",
              "dtype: int64"
            ]
          },
          "metadata": {
            "tags": []
          },
          "execution_count": 6
        }
      ]
    },
    {
      "cell_type": "code",
      "metadata": {
        "id": "cG_lMwvD17qq",
        "outputId": "e63ffb6a-f2ce-4dc5-c9f0-d174fe096ae1",
        "colab": {
          "base_uri": "https://localhost:8080/",
          "height": 85
        }
      },
      "source": [
        "wind07.dtypes"
      ],
      "execution_count": null,
      "outputs": [
        {
          "output_type": "execute_result",
          "data": {
            "text/plain": [
              "date     object\n",
              "drct    float64\n",
              "sped    float64\n",
              "dtype: object"
            ]
          },
          "metadata": {
            "tags": []
          },
          "execution_count": 7
        }
      ]
    },
    {
      "cell_type": "code",
      "metadata": {
        "id": "LvOE0cPR2E9Z"
      },
      "source": [
        "power_curve = pd.read_csv('/content/drive/My Drive/Shell_Windfarm_Optimization/Shell_Hackathon Dataset/power_curve.csv')"
      ],
      "execution_count": null,
      "outputs": []
    },
    {
      "cell_type": "code",
      "metadata": {
        "id": "K2NWOeQv28PH",
        "outputId": "196210b9-36dd-4778-a2b2-7423637a12c7",
        "colab": {
          "base_uri": "https://localhost:8080/",
          "height": 204
        }
      },
      "source": [
        "power_curve.head()"
      ],
      "execution_count": null,
      "outputs": [
        {
          "output_type": "execute_result",
          "data": {
            "text/html": [
              "<div>\n",
              "<style scoped>\n",
              "    .dataframe tbody tr th:only-of-type {\n",
              "        vertical-align: middle;\n",
              "    }\n",
              "\n",
              "    .dataframe tbody tr th {\n",
              "        vertical-align: top;\n",
              "    }\n",
              "\n",
              "    .dataframe thead th {\n",
              "        text-align: right;\n",
              "    }\n",
              "</style>\n",
              "<table border=\"1\" class=\"dataframe\">\n",
              "  <thead>\n",
              "    <tr style=\"text-align: right;\">\n",
              "      <th></th>\n",
              "      <th>Wind Speed (m/s)</th>\n",
              "      <th>Thrust Coeffecient</th>\n",
              "      <th>Power (MW)</th>\n",
              "    </tr>\n",
              "  </thead>\n",
              "  <tbody>\n",
              "    <tr>\n",
              "      <th>0</th>\n",
              "      <td>0.0</td>\n",
              "      <td>0.0</td>\n",
              "      <td>0.0</td>\n",
              "    </tr>\n",
              "    <tr>\n",
              "      <th>1</th>\n",
              "      <td>0.1</td>\n",
              "      <td>0.0</td>\n",
              "      <td>0.0</td>\n",
              "    </tr>\n",
              "    <tr>\n",
              "      <th>2</th>\n",
              "      <td>0.2</td>\n",
              "      <td>0.0</td>\n",
              "      <td>0.0</td>\n",
              "    </tr>\n",
              "    <tr>\n",
              "      <th>3</th>\n",
              "      <td>0.3</td>\n",
              "      <td>0.0</td>\n",
              "      <td>0.0</td>\n",
              "    </tr>\n",
              "    <tr>\n",
              "      <th>4</th>\n",
              "      <td>0.4</td>\n",
              "      <td>0.0</td>\n",
              "      <td>0.0</td>\n",
              "    </tr>\n",
              "  </tbody>\n",
              "</table>\n",
              "</div>"
            ],
            "text/plain": [
              "   Wind Speed (m/s)  Thrust Coeffecient  Power (MW)\n",
              "0               0.0                 0.0         0.0\n",
              "1               0.1                 0.0         0.0\n",
              "2               0.2                 0.0         0.0\n",
              "3               0.3                 0.0         0.0\n",
              "4               0.4                 0.0         0.0"
            ]
          },
          "metadata": {
            "tags": []
          },
          "execution_count": 9
        }
      ]
    },
    {
      "cell_type": "code",
      "metadata": {
        "id": "aZLIQJQ82-KM",
        "outputId": "44fd5995-6d57-4ca4-cb1a-1ffa2bfac768",
        "colab": {
          "base_uri": "https://localhost:8080/",
          "height": 34
        }
      },
      "source": [
        "power_curve.shape"
      ],
      "execution_count": null,
      "outputs": [
        {
          "output_type": "execute_result",
          "data": {
            "text/plain": [
              "(501, 3)"
            ]
          },
          "metadata": {
            "tags": []
          },
          "execution_count": 10
        }
      ]
    },
    {
      "cell_type": "code",
      "metadata": {
        "id": "xAit8bZN2_vy",
        "outputId": "1bd5309e-4c3a-41c4-ba57-37e9afd45666",
        "colab": {
          "base_uri": "https://localhost:8080/",
          "height": 297
        }
      },
      "source": [
        "power_curve.describe()"
      ],
      "execution_count": null,
      "outputs": [
        {
          "output_type": "execute_result",
          "data": {
            "text/html": [
              "<div>\n",
              "<style scoped>\n",
              "    .dataframe tbody tr th:only-of-type {\n",
              "        vertical-align: middle;\n",
              "    }\n",
              "\n",
              "    .dataframe tbody tr th {\n",
              "        vertical-align: top;\n",
              "    }\n",
              "\n",
              "    .dataframe thead th {\n",
              "        text-align: right;\n",
              "    }\n",
              "</style>\n",
              "<table border=\"1\" class=\"dataframe\">\n",
              "  <thead>\n",
              "    <tr style=\"text-align: right;\">\n",
              "      <th></th>\n",
              "      <th>Wind Speed (m/s)</th>\n",
              "      <th>Thrust Coeffecient</th>\n",
              "      <th>Power (MW)</th>\n",
              "    </tr>\n",
              "  </thead>\n",
              "  <tbody>\n",
              "    <tr>\n",
              "      <th>count</th>\n",
              "      <td>501.000000</td>\n",
              "      <td>501.000000</td>\n",
              "      <td>501.000000</td>\n",
              "    </tr>\n",
              "    <tr>\n",
              "      <th>mean</th>\n",
              "      <td>25.000000</td>\n",
              "      <td>0.187915</td>\n",
              "      <td>0.939948</td>\n",
              "    </tr>\n",
              "    <tr>\n",
              "      <th>std</th>\n",
              "      <td>14.477051</td>\n",
              "      <td>0.296416</td>\n",
              "      <td>1.295598</td>\n",
              "    </tr>\n",
              "    <tr>\n",
              "      <th>min</th>\n",
              "      <td>0.000000</td>\n",
              "      <td>0.000000</td>\n",
              "      <td>0.000000</td>\n",
              "    </tr>\n",
              "    <tr>\n",
              "      <th>25%</th>\n",
              "      <td>12.500000</td>\n",
              "      <td>0.000000</td>\n",
              "      <td>0.000000</td>\n",
              "    </tr>\n",
              "    <tr>\n",
              "      <th>50%</th>\n",
              "      <td>25.000000</td>\n",
              "      <td>0.000000</td>\n",
              "      <td>0.000000</td>\n",
              "    </tr>\n",
              "    <tr>\n",
              "      <th>75%</th>\n",
              "      <td>37.500000</td>\n",
              "      <td>0.240069</td>\n",
              "      <td>2.681933</td>\n",
              "    </tr>\n",
              "    <tr>\n",
              "      <th>max</th>\n",
              "      <td>50.000000</td>\n",
              "      <td>0.882555</td>\n",
              "      <td>3.000000</td>\n",
              "    </tr>\n",
              "  </tbody>\n",
              "</table>\n",
              "</div>"
            ],
            "text/plain": [
              "       Wind Speed (m/s)  Thrust Coeffecient  Power (MW)\n",
              "count        501.000000          501.000000  501.000000\n",
              "mean          25.000000            0.187915    0.939948\n",
              "std           14.477051            0.296416    1.295598\n",
              "min            0.000000            0.000000    0.000000\n",
              "25%           12.500000            0.000000    0.000000\n",
              "50%           25.000000            0.000000    0.000000\n",
              "75%           37.500000            0.240069    2.681933\n",
              "max           50.000000            0.882555    3.000000"
            ]
          },
          "metadata": {
            "tags": []
          },
          "execution_count": 11
        }
      ]
    },
    {
      "cell_type": "code",
      "metadata": {
        "id": "5D14kDZ_3CX8",
        "outputId": "4dff258e-3bcf-4e8c-9728-607c796a25a8",
        "colab": {
          "base_uri": "https://localhost:8080/",
          "height": 282
        }
      },
      "source": [
        "power_curve['Thrust Coeffecient'].plot()"
      ],
      "execution_count": null,
      "outputs": [
        {
          "output_type": "execute_result",
          "data": {
            "text/plain": [
              "<matplotlib.axes._subplots.AxesSubplot at 0x7f2b784145c0>"
            ]
          },
          "metadata": {
            "tags": []
          },
          "execution_count": 12
        },
        {
          "output_type": "display_data",
          "data": {
            "image/png": "[encoded data removed]",
            "text/plain": [
              "<Figure size 432x288 with 1 Axes>"
            ]
          },
          "metadata": {
            "tags": [],
            "needs_background": "light"
          }
        }
      ]
    },
    {
      "cell_type": "code",
      "metadata": {
        "id": "3kFkIp244hx_",
        "outputId": "e7b4ff10-d345-444d-97de-d02b7a2b392a",
        "colab": {
          "base_uri": "https://localhost:8080/",
          "height": 282
        }
      },
      "source": [
        "power_curve['Power (MW)'].plot()"
      ],
      "execution_count": null,
      "outputs": [
        {
          "output_type": "execute_result",
          "data": {
            "text/plain": [
              "<matplotlib.axes._subplots.AxesSubplot at 0x7f2b7835b4e0>"
            ]
          },
          "metadata": {
            "tags": []
          },
          "execution_count": 13
        },
        {
          "output_type": "display_data",
          "data": {
            "image/png": "[encoded data removed]",
            "text/plain": [
              "<Figure size 432x288 with 1 Axes>"
            ]
          },
          "metadata": {
            "tags": [],
            "needs_background": "light"
          }
        }
      ]
    },
    {
      "cell_type": "code",
      "metadata": {
        "id": "1JVpv-XF4zOL"
      },
      "source": [
        "test_loc = pd.read_csv('/content/drive/My Drive/Shell_Windfarm_Optimization/Shell_Hackathon Dataset/turbine_loc_test.csv')"
      ],
      "execution_count": null,
      "outputs": []
    },
    {
      "cell_type": "code",
      "metadata": {
        "id": "25gBx7325O7E",
        "outputId": "33c21a25-6328-42aa-ad1f-6d7a69c92924",
        "colab": {
          "base_uri": "https://localhost:8080/",
          "height": 204
        }
      },
      "source": [
        "test_loc.head()"
      ],
      "execution_count": null,
      "outputs": [
        {
          "output_type": "execute_result",
          "data": {
            "text/html": [
              "<div>\n",
              "<style scoped>\n",
              "    .dataframe tbody tr th:only-of-type {\n",
              "        vertical-align: middle;\n",
              "    }\n",
              "\n",
              "    .dataframe tbody tr th {\n",
              "        vertical-align: top;\n",
              "    }\n",
              "\n",
              "    .dataframe thead th {\n",
              "        text-align: right;\n",
              "    }\n",
              "</style>\n",
              "<table border=\"1\" class=\"dataframe\">\n",
              "  <thead>\n",
              "    <tr style=\"text-align: right;\">\n",
              "      <th></th>\n",
              "      <th>x</th>\n",
              "      <th>y</th>\n",
              "    </tr>\n",
              "  </thead>\n",
              "  <tbody>\n",
              "    <tr>\n",
              "      <th>0</th>\n",
              "      <td>3690.323986</td>\n",
              "      <td>370.757560</td>\n",
              "    </tr>\n",
              "    <tr>\n",
              "      <th>1</th>\n",
              "      <td>3259.406706</td>\n",
              "      <td>2682.588354</td>\n",
              "    </tr>\n",
              "    <tr>\n",
              "      <th>2</th>\n",
              "      <td>478.523823</td>\n",
              "      <td>326.121719</td>\n",
              "    </tr>\n",
              "    <tr>\n",
              "      <th>3</th>\n",
              "      <td>2028.458028</td>\n",
              "      <td>1131.161344</td>\n",
              "    </tr>\n",
              "    <tr>\n",
              "      <th>4</th>\n",
              "      <td>165.682335</td>\n",
              "      <td>1288.756179</td>\n",
              "    </tr>\n",
              "  </tbody>\n",
              "</table>\n",
              "</div>"
            ],
            "text/plain": [
              "             x            y\n",
              "0  3690.323986   370.757560\n",
              "1  3259.406706  2682.588354\n",
              "2   478.523823   326.121719\n",
              "3  2028.458028  1131.161344\n",
              "4   165.682335  1288.756179"
            ]
          },
          "metadata": {
            "tags": []
          },
          "execution_count": 15
        }
      ]
    },
    {
      "cell_type": "code",
      "metadata": {
        "id": "-uXM0OQ95Qc_",
        "outputId": "bfac809f-f121-4ab1-9b5d-8a6fda79d52c",
        "colab": {
          "base_uri": "https://localhost:8080/",
          "height": 34
        }
      },
      "source": [
        "test_loc.shape"
      ],
      "execution_count": null,
      "outputs": [
        {
          "output_type": "execute_result",
          "data": {
            "text/plain": [
              "(50, 2)"
            ]
          },
          "metadata": {
            "tags": []
          },
          "execution_count": 16
        }
      ]
    },
    {
      "cell_type": "code",
      "metadata": {
        "id": "FcT8prTq5TDF",
        "outputId": "7cba0f00-70d9-4e87-ddfb-9718c69872d1",
        "colab": {
          "base_uri": "https://localhost:8080/",
          "height": 297
        }
      },
      "source": [
        "test_loc.describe()"
      ],
      "execution_count": null,
      "outputs": [
        {
          "output_type": "execute_result",
          "data": {
            "text/html": [
              "<div>\n",
              "<style scoped>\n",
              "    .dataframe tbody tr th:only-of-type {\n",
              "        vertical-align: middle;\n",
              "    }\n",
              "\n",
              "    .dataframe tbody tr th {\n",
              "        vertical-align: top;\n",
              "    }\n",
              "\n",
              "    .dataframe thead th {\n",
              "        text-align: right;\n",
              "    }\n",
              "</style>\n",
              "<table border=\"1\" class=\"dataframe\">\n",
              "  <thead>\n",
              "    <tr style=\"text-align: right;\">\n",
              "      <th></th>\n",
              "      <th>x</th>\n",
              "      <th>y</th>\n",
              "    </tr>\n",
              "  </thead>\n",
              "  <tbody>\n",
              "    <tr>\n",
              "      <th>count</th>\n",
              "      <td>50.000000</td>\n",
              "      <td>50.000000</td>\n",
              "    </tr>\n",
              "    <tr>\n",
              "      <th>mean</th>\n",
              "      <td>2082.113991</td>\n",
              "      <td>1909.937418</td>\n",
              "    </tr>\n",
              "    <tr>\n",
              "      <th>std</th>\n",
              "      <td>1106.587805</td>\n",
              "      <td>1102.779365</td>\n",
              "    </tr>\n",
              "    <tr>\n",
              "      <th>min</th>\n",
              "      <td>165.682335</td>\n",
              "      <td>108.376532</td>\n",
              "    </tr>\n",
              "    <tr>\n",
              "      <th>25%</th>\n",
              "      <td>1108.030408</td>\n",
              "      <td>978.319584</td>\n",
              "    </tr>\n",
              "    <tr>\n",
              "      <th>50%</th>\n",
              "      <td>2098.434607</td>\n",
              "      <td>1914.736951</td>\n",
              "    </tr>\n",
              "    <tr>\n",
              "      <th>75%</th>\n",
              "      <td>2969.732940</td>\n",
              "      <td>2761.302889</td>\n",
              "    </tr>\n",
              "    <tr>\n",
              "      <th>max</th>\n",
              "      <td>3930.650522</td>\n",
              "      <td>3936.067231</td>\n",
              "    </tr>\n",
              "  </tbody>\n",
              "</table>\n",
              "</div>"
            ],
            "text/plain": [
              "                 x            y\n",
              "count    50.000000    50.000000\n",
              "mean   2082.113991  1909.937418\n",
              "std    1106.587805  1102.779365\n",
              "min     165.682335   108.376532\n",
              "25%    1108.030408   978.319584\n",
              "50%    2098.434607  1914.736951\n",
              "75%    2969.732940  2761.302889\n",
              "max    3930.650522  3936.067231"
            ]
          },
          "metadata": {
            "tags": []
          },
          "execution_count": 17
        }
      ]
    },
    {
      "cell_type": "code",
      "metadata": {
        "id": "JZ7m7Lkgm4Nf"
      },
      "source": [
        "import sys\n",
        "sys.path.append('/content/drive/My Drive/Shell_Windfarm_Optimization/Farm_Evaluator_Vec.py')"
      ],
      "execution_count": null,
      "outputs": []
    },
    {
      "cell_type": "code",
      "metadata": {
        "id": "u2awrnF1g1D9"
      },
      "source": [
        "import glob\n",
        "filenames = glob.glob('/content/drive/My Drive/Shell_Windfarm_Optimization/Shell_Hackathon Dataset/Wind Data/wind_data*.csv')"
      ],
      "execution_count": null,
      "outputs": []
    },
    {
      "cell_type": "code",
      "metadata": {
        "id": "wqX134IEiBJ4"
      },
      "source": [
        "wind = pd.concat([pd.read_csv(f) for f in filenames],ignore_index=True)\n",
        "wind.to_csv('/content/drive/My Drive/Shell_Windfarm_Optimization/Shell_Hackathon Dataset/Wind Data/wind.csv',index=False)"
      ],
      "execution_count": null,
      "outputs": []
    },
    {
      "cell_type": "code",
      "metadata": {
        "id": "eiLZIPWV_Kax",
        "outputId": "31fe1ae8-470e-4d05-e688-495809c10db6",
        "colab": {
          "base_uri": "https://localhost:8080/",
          "height": 85
        }
      },
      "source": [
        "# -*- coding: utf-8 -*-\n",
        "\"\"\"\n",
        "Created on: xxxx\n",
        "@author   : Anon\n",
        "\n",
        "NAME\n",
        "    Farm_Evalautor.py\n",
        "    \n",
        "PYTHON VERSION   \n",
        "    3.7.3 \n",
        "    \n",
        "DESCRIPTION\n",
        "    Calculates Annual Energy Production (AEP) of a Wind Farm\n",
        "    ============================================================    \n",
        "    \n",
        "    This is vectorzied version of Farm_Evalautor.py. \n",
        "    Farm_Evalautor_Vec.py is a python file that calculates AEP (GWh)\n",
        "    of a certain arrangement of wind turbines in a farm, under \n",
        "    given annual wind conditions. \n",
        "    \n",
        "    The code in this script for wake-effect modeling is based on\n",
        "    standard Jensen (PARK) model. \n",
        "    I. Katic, J. Hojstrup and N. Jensen, \"A simple model for cluster \n",
        "    efficiency,\" in European Wind Energy Association Conference and \n",
        "    Exhibition, 1986.\n",
        "    \n",
        "    As its inputs, the code takes three data files containing info \n",
        "    about:\n",
        "    - Turbine Locations\n",
        "    - Turbine Power Curve\n",
        "    - Annual Wind Conditions\n",
        "    \n",
        "PACKAGE LIST\n",
        "    You may need to install the package Shapely in your\n",
        "    python distribution. These are not pre-installed. \n",
        "    =============================================================\n",
        "    Packages Used:\n",
        "    Numpy\n",
        "    Pandas\n",
        "    Shapely\n",
        "    math (built-in)\n",
        "    \n",
        "OPTIMIZATION USAGE\n",
        "    This vectorized version is faster than unvectorized version\n",
        "    Farm_Evalautor.py. Due to speed benefits, we advise you to use \n",
        "    the function getAEP in this script while developing the optimizer. \n",
        "    =============================================================\n",
        "    \n",
        "    One way to use getAEP function as AEP evaluator while optimizing is:\n",
        "    - STEPz Import the relevant function from Farm_Evalautor_Vec. \n",
        "              from Farm_Evalautor_Vec import getTurbLoc, loadPowerCurve, \n",
        "              binWindResourceData, preProcessing, getAEP\n",
        "    - STEP 2. Set Turbine Radius to 50.0. First arg of getAEP\n",
        "    - STEP 3. Load Turbine Locations. Using function getTurbLoc\n",
        "    - STEP 4. Load Power Curve. Using function loadPowerCurve\n",
        "    - STEP 5. Load wind instance probabilities. \n",
        "              Using function binWindResourceData\n",
        "    - STEP 6. Perform Preprocessing by calling function preProcessing.\n",
        "              We do preprocessing to avoid same repeating calculations.\n",
        "              Do them once. \n",
        "    - STEP 7. Finally, call function getAEP\n",
        "    \n",
        "    This makes it easy to control the reloading of data and hence achieve\n",
        "    better performance.      \n",
        "\"\"\"\n",
        "\n",
        "# Module List\n",
        "import numpy  as np\n",
        "import pandas as pd                     \n",
        "from   math   import radians as DegToRad       # Degrees to radians Conversion\n",
        "\n",
        "from shapely.geometry import Point             # Imported for constraint checking\n",
        "from shapely.geometry.polygon import Polygon\n",
        "\n",
        "import warnings\n",
        "warnings.filterwarnings(\"ignore\")\n",
        "\n",
        "def getTurbLoc(turb_loc_file_name):\n",
        "    \"\"\" \n",
        "    -**-THIS FUNCTION SHOULD NOT BE MODIFIED-**-\n",
        "    \n",
        "    Returns x,y turbine coordinates\n",
        "    \n",
        "    :Called from\n",
        "        main function\n",
        "    \n",
        "    :param\n",
        "        turb_loc_file_name - Turbine Loc csv file location\n",
        "        \n",
        "    :return\n",
        "        2D array\n",
        "    \"\"\"\n",
        "    \n",
        "    df = pd.read_csv(turb_loc_file_name, sep=',', dtype = np.float32)\n",
        "    turb_coords = df.to_numpy(dtype = np.float32)\n",
        "    return(turb_coords)\n",
        "\n",
        "\n",
        "def loadPowerCurve(power_curve_file_name):\n",
        "    \"\"\"\n",
        "    -**-THIS FUNCTION SHOULD NOT BE MODIFIED-**-\n",
        "    \n",
        "    Returns a 2D numpy array with information about\n",
        "    turbine thrust coeffecient and power curve of the \n",
        "    turbine for given wind speed\n",
        "    \n",
        "    :called_from\n",
        "        main function\n",
        "    \n",
        "    :param\n",
        "        power_curve_file_name - power curve csv file location\n",
        "        \n",
        "    :return\n",
        "        Returns a 2D numpy array with cols Wind Speed (m/s), \n",
        "        Thrust Coeffecient (non dimensional), Power (MW)\n",
        "    \"\"\"\n",
        "    powerCurve = pd.read_csv(power_curve_file_name, sep=',', dtype = np.float32)\n",
        "    powerCurve = powerCurve.to_numpy(dtype = np.float32)\n",
        "    return(powerCurve)\n",
        "    \n",
        "\n",
        "def binWindResourceData(wind_data_file_name):\n",
        "    r\"\"\"\n",
        "    -**-THIS FUNCTION SHOULD NOT BE MODIFIED-**-\n",
        "    \n",
        "    Loads the wind data. Returns a 2D array with shape (36,15). \n",
        "    Each cell in  array is a wind direction and speed 'instance'. \n",
        "    Values in a cell correspond to probability of instance\n",
        "    occurence.  \n",
        "    \n",
        "    :Called from\n",
        "        main function\n",
        "        \n",
        "    :param\n",
        "        wind_data_file_name - Wind Resource csv file  \n",
        "        \n",
        "    :return\n",
        "        1-D flattened array of the 2-D array shown below. Values \n",
        "        inside cells, rough probabilities of wind instance occurence. \n",
        "        Along: Row-direction (drct), Column-Speed (s). Array flattened\n",
        "        for vectorization purpose. \n",
        "        \n",
        "                      |0<=s<2|2<=s<4| ...  |26<=s<28|28<=s<30|\n",
        "        |_____________|______|______|______|________|________|\n",
        "        | drct = 360  |  --  |  --  |  --  |   --   |   --   |\n",
        "        | drct = 10   |  --  |  --  |  --  |   --   |   --   |\n",
        "        | drct = 20   |  --  |  --  |  --  |   --   |   --   |\n",
        "        |   ....      |  --  |  --  |  --  |   --   |   --   |\n",
        "        | drct = 340  |  --  |  --  |  --  |   --   |   --   |\n",
        "        | drct = 350  |  --  |  --  |  --  |   --   |   --   |        \n",
        "    \"\"\"\n",
        "    \n",
        "    # Load wind data. Then, extracts the 'drct', 'sped' columns\n",
        "    df = pd.read_csv(wind_data_file_name)\n",
        "    wind_resource = df[['drct', 'sped']].to_numpy(dtype = np.float32)\n",
        "    \n",
        "    # direction 'slices' in degrees\n",
        "    slices_drct   = np.roll(np.arange(10, 361, 10, dtype=np.float32), 1)\n",
        "    ## slices_drct   = [360, 10.0, 20.0.......340, 350]\n",
        "    n_slices_drct = slices_drct.shape[0]\n",
        "    \n",
        "    # speed 'slices'\n",
        "    slices_sped   = [0.0, 2.0, 4.0, 6.0, 8.0, 10.0, 12.0, 14.0, 16.0, \n",
        "                        18.0, 20.0, 22.0, 24.0, 26.0, 28.0, 30.0]\n",
        "    n_slices_sped = len(slices_sped)-1\n",
        "\n",
        "    \n",
        "    # placeholder for binned wind\n",
        "    binned_wind = np.zeros((n_slices_drct, n_slices_sped), \n",
        "                           dtype = np.float32)\n",
        "    \n",
        "    # 'trap' data points inside the bins. \n",
        "    for i in range(n_slices_drct):\n",
        "        for j in range(n_slices_sped):     \n",
        "            \n",
        "            # because we already have drct in the multiples of 10\n",
        "            foo = wind_resource[(wind_resource[:,0] == slices_drct[i])] \n",
        "\n",
        "            foo = foo[(foo[:,1] >= slices_sped[j]) \n",
        "                          & (foo[:,1] <  slices_sped[j+1])]\n",
        "            \n",
        "            binned_wind[i,j] = foo.shape[0]  \n",
        "    \n",
        "    wind_inst_freq   = binned_wind/np.sum(binned_wind)\n",
        "    wind_inst_freq   = wind_inst_freq.ravel()\n",
        "    \n",
        "    return(wind_inst_freq)\n",
        "\n",
        "\n",
        "def searchSorted(lookup, sample_array):\n",
        "    \"\"\"\n",
        "    -**-THIS FUNCTION SHOULD NOT BE MODIFIED-**-\n",
        "    \n",
        "    Returns lookup indices for closest values w.r.t sample_array elements\n",
        "    \n",
        "    :called_from\n",
        "        preProcessing, getAEP\n",
        "    \n",
        "    :param\n",
        "        lookup       - The lookup array\n",
        "        sample_array - Array, whose elements need to be matched\n",
        "                       against lookup elements. \n",
        "        \n",
        "    :return\n",
        "        lookup indices for closest values w.r.t sample_array elements \n",
        "    \"\"\"\n",
        "    lookup_middles = lookup[1:] - np.diff(lookup.astype('f'))/2\n",
        "    idx1 = np.searchsorted(lookup_middles, sample_array)\n",
        "    indices = np.arange(lookup.shape[0])[idx1]\n",
        "    return indices\n",
        "\n",
        "   \n",
        "\n",
        "def preProcessing(power_curve):\n",
        "    \"\"\"\n",
        "    -**-THIS FUNCTION SHOULD NOT BE MODIFIED-**-\n",
        "    \n",
        "    Doing preprocessing to avoid the same repeating calculations.\n",
        "    Record the required data for calculations. Do that once.\n",
        "    Data are set up (shaped) to assist vectorization. Used later in\n",
        "    function totalAEP. \n",
        "    \n",
        "    :called_from\n",
        "        main function\n",
        "    \n",
        "    :param\n",
        "        power_curve - 2D numpy array with cols Wind Speed (m/s), \n",
        "                      Thrust Coeffecient (non dimensional), Power (MW)\n",
        "        \n",
        "    :return\n",
        "        n_wind_instances  - number of wind instances (int)\n",
        "        cos_dir           - For coordinate transformation \n",
        "                            2D Array. Shape (n_wind_instances,1)\n",
        "        sin_dir           - For coordinate transformation \n",
        "                            2D Array. Shape (n_wind_instances,1)\n",
        "        wind_sped_stacked - column staked all speed instances n_turb times. \n",
        "        C_t               - 3D array with shape (n_wind_instances, n_turbs, n_turbs)\n",
        "                            Value changing only along axis=0. C_t, thrust coeff.\n",
        "                            values for all speed instances. \n",
        "    \"\"\"\n",
        "    # number of turbines\n",
        "    n_turbs       =   50\n",
        "    \n",
        "    # direction 'slices' in degrees\n",
        "    slices_drct   = np.roll(np.arange(10, 361, 10, dtype=np.float32), 1)\n",
        "    ## slices_drct   = [360, 10.0, 20.0.......340, 350]\n",
        "    n_slices_drct = slices_drct.shape[0]\n",
        "    \n",
        "    # speed 'slices'\n",
        "    slices_sped   = [0.0, 2.0, 4.0, 6.0, 8.0, 10.0, 12.0, 14.0, 16.0, \n",
        "                        18.0, 20.0, 22.0, 24.0, 26.0, 28.0, 30.0]\n",
        "    n_slices_sped = len(slices_sped)-1\n",
        "    \n",
        "    # number of wind instances\n",
        "    n_wind_instances = (n_slices_drct)*(n_slices_sped)\n",
        "    \n",
        "    # Create wind instances. There are two columns in the wind instance array\n",
        "    # First Column - Wind Speed. Second Column - Wind Direction\n",
        "    # Shape of wind_instances (n_wind_instances,2). \n",
        "    # Values [1.,360.],[3.,360.],[5.,360.]...[25.,350.],[27.,350.],29.,350.]\n",
        "    wind_instances = np.zeros((n_wind_instances,2), dtype=np.float32)\n",
        "    counter = 0\n",
        "    for i in range(n_slices_drct):\n",
        "        for j in range(n_slices_sped): \n",
        "            \n",
        "            wind_drct =  slices_drct[i]\n",
        "            wind_sped = (slices_sped[j] + slices_sped[j+1])/2\n",
        "            \n",
        "            wind_instances[counter,0] = wind_sped\n",
        "            wind_instances[counter,1] = wind_drct\n",
        "            counter += 1\n",
        "\n",
        "\t# So that the wind flow direction aligns with the +ve x-axis.\t\t\t\n",
        "    # Convert inflow wind direction from degrees to radians\n",
        "    wind_drcts =  np.radians(wind_instances[:,1] - 90)\n",
        "    # For coordinate transformation \n",
        "    cos_dir = np.cos(wind_drcts).reshape(n_wind_instances,1)\n",
        "    sin_dir = np.sin(wind_drcts).reshape(n_wind_instances,1)\n",
        "    \n",
        "    # create copies of n_wind_instances wind speeds from wind_instances\n",
        "    wind_sped_stacked = np.column_stack([wind_instances[:,0]]*n_turbs)\n",
        "   \n",
        "    # Pre-prepare matrix with stored thrust coeffecient C_t values for \n",
        "    # n_wind_instances shape (n_wind_instances, n_turbs, n_turbs). \n",
        "    # Value changing only along axis=0. C_t, thrust coeff. values for all \n",
        "    # speed instances.\n",
        "    # we use power_curve data as look up to estimate the thrust coeff.\n",
        "    # of the turbine for the corresponding closest matching wind speed\n",
        "    indices = searchSorted(power_curve[:,0], wind_instances[:,0])\n",
        "    C_t     = power_curve[indices,1]\n",
        "    # stacking and reshaping to assist vectorization\n",
        "    C_t     = np.column_stack([C_t]*(n_turbs*n_turbs))\n",
        "    C_t     = C_t.reshape(n_wind_instances, n_turbs, n_turbs)\n",
        "    \n",
        "    return(n_wind_instances, cos_dir, sin_dir, wind_sped_stacked, C_t)\n",
        "\n",
        "\n",
        "def getAEP(turb_rad, turb_coords, power_curve, wind_inst_freq, \n",
        "            n_wind_instances, cos_dir, sin_dir, wind_sped_stacked, C_t):\n",
        "    \n",
        "    \"\"\"\n",
        "    -**-THIS FUNCTION SHOULD NOT BE MODIFIED-**-\n",
        "    \n",
        "    Calculates AEP of the wind farm. Vectorised version.\n",
        "    \n",
        "    :called from\n",
        "        main\n",
        "        \n",
        "    :param\n",
        "        turb_diam         - Radius of the turbine (m)\n",
        "        turb_coords       - 2D array turbine euclidean x,y coordinates\n",
        "        power_curve       - For estimating power. \n",
        "        wind_inst_freq    - 1-D flattened with rough probabilities of \n",
        "                            wind instance occurence.\n",
        "                            n_wind_instances  - number of wind instances (int)\n",
        "        cos_dir           - For coordinate transformation \n",
        "                            2D Array. Shape (n_wind_instances,1)\n",
        "        sin_dir           - For coordinate transformation \n",
        "                            2D Array. Shape (n_wind_instances,1)\n",
        "        wind_sped_stacked - column staked all speed instances n_turb times. \n",
        "        C_t               - 3D array with shape (n_wind_instances, n_turbs, n_turbs)\n",
        "                            Value changing only along axis=0. C_t, thrust coeff.\n",
        "                            values for all speed instances. \n",
        "    \n",
        "    :return\n",
        "        wind farm AEP in Gigawatt Hours, GWh (float)\n",
        "    \"\"\"\n",
        "    # number of turbines\n",
        "    n_turbs        =   turb_coords.shape[0]\n",
        "    assert n_turbs ==  50, \"Error! Number of turbines is not 50.\"\n",
        "    \n",
        "    # Prepare the rotated coordinates wrt the wind direction i.e downwind(x) & crosswind(y) \n",
        "    # coordinates wrt to the wind direction for each direction in wind_instances array\n",
        "    rotate_coords   =  np.zeros((n_wind_instances, n_turbs, 2), dtype=np.float32)\n",
        "    # Coordinate Transformation. Rotate coordinates to downwind, crosswind coordinates\n",
        "    rotate_coords[:,:,0] =  np.matmul(cos_dir, np.transpose(turb_coords[:,0].reshape(n_turbs,1))) - \\\n",
        "                           np.matmul(sin_dir, np.transpose(turb_coords[:,1].reshape(n_turbs,1)))\n",
        "    rotate_coords[:,:,1] =  np.matmul(sin_dir, np.transpose(turb_coords[:,0].reshape(n_turbs,1))) +\\\n",
        "                           np.matmul(cos_dir, np.transpose(turb_coords[:,1].reshape(n_turbs,1)))\n",
        " \n",
        "    \n",
        "    # x_dist - x dist between turbine pairs wrt downwind/crosswind coordinates)\n",
        "    # for each wind instance\n",
        "    x_dist = np.zeros((n_wind_instances,n_turbs,n_turbs), dtype=np.float32)\n",
        "    for i in range(n_wind_instances):\n",
        "        tmp = rotate_coords[i,:,0].repeat(n_turbs).reshape(n_turbs, n_turbs)\n",
        "        x_dist[i] = tmp - tmp.transpose()\n",
        "    \n",
        "\n",
        "    # y_dist - y dist between turbine pairs wrt downwind/crosswind coordinates)\n",
        "    # for each wind instance    \n",
        "    y_dist = np.zeros((n_wind_instances,n_turbs,n_turbs), dtype=np.float32)\n",
        "    for i in range(n_wind_instances):\n",
        "        tmp = rotate_coords[i,:,1].repeat(n_turbs).reshape(n_turbs, n_turbs)\n",
        "        y_dist[i] = tmp - tmp.transpose()\n",
        "    y_dist = np.abs(y_dist) \n",
        "     \n",
        "\n",
        "    # Now use element wise operations to calculate speed deficit.\n",
        "    # kw, wake decay constant presetted to0,05\n",
        "    # use the jensen's model formula. \n",
        "    # no wake effect of turbine on itself. either j not an upstream or wake \n",
        "    # not happening on i because its outside of the wake region of j\n",
        "    # For some values of x_dist here RuntimeWarning: divide by zero may occur\n",
        "    # That occurs for negative x_dist. Those we anyway mark as zeros. \n",
        "    sped_deficit = (1-np.sqrt(1-C_t))*((turb_rad/(turb_rad + 0.05*x_dist))**2) \n",
        "    sped_deficit[((x_dist <= 0) | ((x_dist > 0) & (y_dist > (turb_rad + 0.05*x_dist))))] = 0.0\n",
        "    \n",
        "    \n",
        "    # Calculate Total speed deficit from all upstream turbs, using sqrt of sum of sqrs\n",
        "    sped_deficit_eff  = np.sqrt(np.sum(np.square(sped_deficit), axis = 2))\n",
        "\n",
        "    \n",
        "    # Element wise multiply the above with (1- sped_deficit_eff) to get\n",
        "    # effective windspeed due to the happening wake\n",
        "    wind_sped_eff     = wind_sped_stacked*(1.0-sped_deficit_eff)\n",
        "\n",
        "    \n",
        "    # Estimate power from power_curve look up for wind_sped_eff\n",
        "    indices = searchSorted(power_curve[:,0], wind_sped_eff.ravel())\n",
        "    power   = power_curve[indices,2]\n",
        "    power   = power.reshape(n_wind_instances,n_turbs)\n",
        "    \n",
        "    # Farm power for single wind instance \n",
        "    power   = np.sum(power, axis=1)\n",
        "    \n",
        "    # multiply the respective values with the wind instance probabilities \n",
        "    # year_hours = 8760.0\n",
        "    AEP = 8760.0*np.sum(power*wind_inst_freq)\n",
        "    \n",
        "    # Convert MWh to GWh\n",
        "    AEP = AEP/1e3\n",
        "    \n",
        "    return(AEP)\n",
        "    \n",
        "\n",
        "    \n",
        "def checkConstraints(turb_coords, turb_diam):\n",
        "    \"\"\"\n",
        "    -**-THIS FUNCTION SHOULD NOT BE MODIFIED-**-\n",
        "    \n",
        "    Checks if the turbine configuration satisfies the two\n",
        "    constraints:(i) perimeter constraint,(ii) proximity constraint \n",
        "    Prints which constraints are violated if any. Note that this \n",
        "    function does not quantifies the amount by which the constraints \n",
        "    are violated if any. \n",
        "    \n",
        "    :called from\n",
        "        main \n",
        "        \n",
        "    :param\n",
        "        turb_coords - 2d np array containing turbine x,y coordinates\n",
        "        turb_diam   - Diameter of the turbine (m)\n",
        "    \n",
        "    :return\n",
        "        None. Prints messages.   \n",
        "    \"\"\"\n",
        "    bound_clrnc      = 50\n",
        "    prox_constr_viol = False\n",
        "    peri_constr_viol = False\n",
        "    \n",
        "    # create a shapely polygon object of the wind farm\n",
        "    farm_peri = [(0, 0), (0, 4000), (4000, 4000), (4000, 0)]\n",
        "    farm_poly = Polygon(farm_peri)\n",
        "    \n",
        "    # checks if for every turbine perimeter constraint is satisfied. \n",
        "    # breaks out if False anywhere\n",
        "    for turb in turb_coords:\n",
        "        turb = Point(turb)\n",
        "        inside_farm   = farm_poly.contains(turb)\n",
        "        correct_clrnc = farm_poly.boundary.distance(turb) >= bound_clrnc\n",
        "        if (inside_farm == False or correct_clrnc == False):\n",
        "            peri_constr_viol = True\n",
        "            break\n",
        "    \n",
        "    # checks if for every turbines proximity constraint is satisfied. \n",
        "    # breaks out if False anywhere\n",
        "    for i,turb1 in enumerate(turb_coords):\n",
        "        for turb2 in np.delete(turb_coords, i, axis=0):\n",
        "            if  np.linalg.norm(turb1 - turb2) < 4*turb_diam:\n",
        "                prox_constr_viol = True\n",
        "                break\n",
        "    \n",
        "    # print messages\n",
        "    if  peri_constr_viol  == True  and prox_constr_viol == True:\n",
        "          print('Somewhere both perimeter constraint and proximity constraint are violated\\n')\n",
        "    elif peri_constr_viol == True  and prox_constr_viol == False:\n",
        "          print('Somewhere perimeter constraint is violated\\n')\n",
        "    elif peri_constr_viol == False and prox_constr_viol == True:\n",
        "          print('Somewhere proximity constraint is violated\\n')\n",
        "    else: print('Both perimeter and proximity constraints are satisfied !!\\n')\n",
        "        \n",
        "    return()\n",
        "\n",
        "if __name__ == \"__main__\":\n",
        "\n",
        "    # Turbine Specifications.\n",
        "    # -**-SHOULD NOT BE MODIFIED-**-\n",
        "    turb_specs    =  {   \n",
        "                         'Name': 'Anon Name',\n",
        "                         'Vendor': 'Anon Vendor',\n",
        "                         'Type': 'Anon Type',\n",
        "                         'Dia (m)': 100,\n",
        "                         'Rotor Area (m2)': 7853,\n",
        "                         'Hub Height (m)': 100,\n",
        "                         'Cut-in Wind Speed (m/s)': 3.5,\n",
        "                         'Cut-out Wind Speed (m/s)': 25,\n",
        "                         'Rated Wind Speed (m/s)': 15,\n",
        "                         'Rated Power (MW)': 3\n",
        "                     }\n",
        "    turb_diam      =  turb_specs['Dia (m)']\n",
        "    turb_rad       =  turb_diam/2 \n",
        "    \n",
        "    # Turbine x,y coordinates\n",
        "    turb_coords   =  getTurbLoc(r'/content/drive/My Drive/Shell_Windfarm_Optimization/Shell_Hackathon Dataset/turbine_loc_test.csv')\n",
        "    \n",
        "    # Load the power curve\n",
        "    power_curve   =  loadPowerCurve('/content/drive/My Drive/Shell_Windfarm_Optimization/Shell_Hackathon Dataset/power_curve.csv')\n",
        "    \n",
        "    # Pass wind data csv file location to function binWindResourceData.\n",
        "    # Retrieve probabilities of wind instance occurence.\n",
        "    wind_inst_freq =  binWindResourceData(r'/content/drive/My Drive/Shell_Windfarm_Optimization/Shell_Hackathon Dataset/Wind Data/wind.csv')   \n",
        "    \n",
        "    # Doing preprocessing to avoid the same repeating calculations. Record \n",
        "    # the required data for calculations. Do that once. Data are set up (shaped)\n",
        "    # to assist vectorization. Used later in function totalAEP.\n",
        "    n_wind_instances, cos_dir, sin_dir, wind_sped_stacked, C_t = preProcessing(power_curve)\n",
        "    \n",
        "    # check if there is any constraint is violated before we do anything. Comment \n",
        "    # out the function call to checkConstraints below if you desire. Note that \n",
        "    # this is just a check and the function does not quantifies the amount by \n",
        "    # which the constraints are violated if any. \n",
        "    checkConstraints(turb_coords, turb_diam)\n",
        "    \n",
        "    print('Calculating AEP......')\n",
        "    AEP = getAEP(turb_rad, turb_coords, power_curve, wind_inst_freq, \n",
        "                  n_wind_instances, cos_dir, sin_dir, wind_sped_stacked, C_t) \n",
        "    print('Total power produced by the wind farm is: ', \"%.12f\"%(AEP), 'GWh')\n"
      ],
      "execution_count": null,
      "outputs": [
        {
          "output_type": "stream",
          "text": [
            "Both perimeter and proximity constraints are satisfied !!\n",
            "\n",
            "Calculating AEP......\n",
            "Total power produced by the wind farm is:  498.153955993652 GWh\n"
          ],
          "name": "stdout"
        }
      ]
    },
    {
      "cell_type": "code",
      "metadata": {
        "id": "JxFpkaf7EWib",
        "outputId": "6bcc8535-93d9-4c08-e051-7824bb1fb6b0",
        "colab": {
          "base_uri": "https://localhost:8080/",
          "height": 34
        }
      },
      "source": [
        "getAEP(turb_rad, turb_coords, power_curve, wind_inst_freq, \n",
        "                  n_wind_instances, cos_dir, sin_dir, wind_sped_stacked, C_t) "
      ],
      "execution_count": null,
      "outputs": [
        {
          "output_type": "execute_result",
          "data": {
            "text/plain": [
              "498.15395599365235"
            ]
          },
          "metadata": {
            "tags": []
          },
          "execution_count": 160
        }
      ]
    },
    {
      "cell_type": "code",
      "metadata": {
        "id": "3ac5gZglnuvs"
      },
      "source": [
        "turb_coords   =  getTurbLoc(r'/content/drive/My Drive/Shell_Windfarm_Optimization/Shell_Hackathon Dataset/turbine_loc_test.csv')\n"
      ],
      "execution_count": null,
      "outputs": []
    },
    {
      "cell_type": "code",
      "metadata": {
        "id": "-b3beZwGn1uq"
      },
      "source": [
        "wind_inst_freq =  binWindResourceData(r'/content/drive/My Drive/Shell_Windfarm_Optimization/Shell_Hackathon Dataset/Wind Data/wind_data_2008.csv')   \n"
      ],
      "execution_count": null,
      "outputs": []
    },
    {
      "cell_type": "code",
      "metadata": {
        "id": "YOhpDdV9sRod",
        "outputId": "3a5bafaa-f057-45e5-aaa4-0b0d6d5423ae",
        "colab": {
          "base_uri": "https://localhost:8080/",
          "height": 34
        }
      },
      "source": [
        "max=0\n",
        "\n",
        "for _ in range(1000):\n",
        "  a = np.random.permutation(a).reshape(10,10)\n",
        "  k=0\n",
        "  for i in range(10):\n",
        "    for j in range(10):\n",
        "      if a[i][j]==1 :\n",
        "        turbine_loc.iat[k,0] = i*400 + 200\n",
        "        turbine_loc.iat[k,1] = j*400 + 200\n",
        "        k=k+1\n",
        "  turb_coords=turbine_loc.to_numpy()\n",
        "  AEP = getAEP(turb_rad, turb_coords, power_curve, wind_inst_freq, \n",
        "                  n_wind_instances, cos_dir, sin_dir, wind_sped_stacked, C_t) \n",
        "  #print(AEP)\n",
        "  if(AEP>max):\n",
        "    max=AEP\n",
        "    turb = turbine_loc.copy()\n",
        "print('max: ',max)"
      ],
      "execution_count": null,
      "outputs": [
        {
          "output_type": "stream",
          "text": [
            "max:  497.84839324951173\n"
          ],
          "name": "stdout"
        }
      ]
    },
    {
      "cell_type": "code",
      "metadata": {
        "id": "BIItPF8Ezpd4"
      },
      "source": [
        "turb.to_csv('sub4.csv',index=False)"
      ],
      "execution_count": null,
      "outputs": []
    },
    {
      "cell_type": "code",
      "metadata": {
        "id": "FZlOQL8tPdZe"
      },
      "source": [
        "pip install geneticalgorithm"
      ],
      "execution_count": null,
      "outputs": []
    },
    {
      "cell_type": "code",
      "metadata": {
        "id": "aSlFlNjz2exc"
      },
      "source": [
        "from geneticalgorithm import geneticalgorithm as ga"
      ],
      "execution_count": null,
      "outputs": []
    },
    {
      "cell_type": "code",
      "metadata": {
        "id": "m2Lztb5W2vXS"
      },
      "source": [
        "X = np.zeros(100)\n",
        "for i in range(50):\n",
        "  X[i] = 1\n",
        "X = np.random.permutation(X)"
      ],
      "execution_count": null,
      "outputs": []
    },
    {
      "cell_type": "code",
      "metadata": {
        "id": "Jg3dSKMM3hDF"
      },
      "source": [
        "def f(X):\n",
        "  k=np.sum(X)\n",
        "  if k!=50:\n",
        "    return 0\n",
        "  X = X.reshape((10,10))  \n",
        "  k=0\n",
        "  turbine_loc = test_loc.copy()\n",
        "  for i in range(10):\n",
        "    for j in range(10):\n",
        "      if X[i][j]==1 :\n",
        "        turbine_loc.iat[k,0] = i*400 + 200\n",
        "        turbine_loc.iat[k,1] = j*400 + 200\n",
        "        k=k+1\n",
        "  \n",
        "  turb_coords=turbine_loc.to_numpy()\n",
        "  AEP = getAEP(turb_rad, turb_coords, power_curve, wind_inst_freq, \n",
        "                  n_wind_instances, cos_dir, sin_dir, wind_sped_stacked, C_t) \n",
        "  return -AEP"
      ],
      "execution_count": null,
      "outputs": []
    },
    {
      "cell_type": "code",
      "metadata": {
        "id": "JXQOa3Fj448p",
        "outputId": "0355ae03-0669-4922-aa63-49d0a2f6e2c1",
        "colab": {
          "base_uri": "https://localhost:8080/",
          "height": 34
        }
      },
      "source": [
        "f(X)"
      ],
      "execution_count": null,
      "outputs": [
        {
          "output_type": "execute_result",
          "data": {
            "text/plain": [
              "-492.54054382324216"
            ]
          },
          "metadata": {
            "tags": []
          },
          "execution_count": 162
        }
      ]
    },
    {
      "cell_type": "code",
      "metadata": {
        "id": "XteFmRpG46up"
      },
      "source": [
        "varbound=np.array([[0,1]]*100)"
      ],
      "execution_count": null,
      "outputs": []
    },
    {
      "cell_type": "code",
      "metadata": {
        "id": "sIBosALf5VZC"
      },
      "source": [
        "model = ga(function=f,dimension=100, variable_type='bool')"
      ],
      "execution_count": null,
      "outputs": []
    },
    {
      "cell_type": "code",
      "metadata": {
        "id": "l5GKYopfmmrS"
      },
      "source": [
        "model5 = ga(function=f, dimension=100, variable_type='bool')"
      ],
      "execution_count": null,
      "outputs": []
    },
    {
      "cell_type": "code",
      "metadata": {
        "id": "9lRLg3Wg53jw",
        "outputId": "76564267-b0b4-439d-a7de-6d14e64cfe30",
        "colab": {
          "base_uri": "https://localhost:8080/",
          "height": 448
        }
      },
      "source": [
        "model.run()"
      ],
      "execution_count": null,
      "outputs": [
        {
          "output_type": "stream",
          "text": [
            " The best solution found:\n",
            " [1. 1. 0. 1. 1. 1. 0. 1. 1. 1. 1. 0. 1. 0. 1. 0. 1. 0. 0. 1. 1. 0. 0. 1.\n",
            " 0. 0. 0. 1. 0. 1. 1. 0. 1. 0. 0. 1. 0. 0. 0. 1. 1. 0. 0. 1. 0. 0. 0. 1.\n",
            " 0. 1. 1. 0. 0. 1. 0. 1. 0. 0. 0. 1. 1. 0. 0. 1. 0. 1. 0. 1. 0. 1. 1. 0.\n",
            " 1. 0. 1. 0. 0. 0. 0. 1. 1. 0. 0. 0. 0. 0. 1. 0. 1. 0. 1. 1. 1. 1. 1. 1.\n",
            " 0. 1. 1. 1.]\n",
            "\n",
            " Objective function:\n",
            " -508.67461761474607\n"
          ],
          "name": "stdout"
        },
        {
          "output_type": "display_data",
          "data": {
            "image/png": "[encoded data removed]",
            "text/plain": [
              "<Figure size 432x288 with 1 Axes>"
            ]
          },
          "metadata": {
            "tags": [],
            "needs_background": "light"
          }
        }
      ]
    },
    {
      "cell_type": "code",
      "metadata": {
        "id": "f-V9YvhHmwp-",
        "outputId": "8f06295c-eb19-4d5d-9e48-14183ec02703",
        "colab": {
          "base_uri": "https://localhost:8080/",
          "height": 448
        }
      },
      "source": [
        "model5.run()"
      ],
      "execution_count": null,
      "outputs": [
        {
          "output_type": "stream",
          "text": [
            " The best solution found:\n",
            " [1. 1. 1. 1. 0. 1. 1. 1. 1. 1. 1. 0. 0. 0. 1. 0. 0. 1. 0. 1. 1. 0. 1. 0.\n",
            " 0. 0. 1. 0. 1. 0. 1. 0. 0. 1. 1. 0. 0. 1. 0. 1. 1. 0. 1. 0. 0. 0. 1. 0.\n",
            " 0. 1. 1. 0. 0. 0. 1. 0. 0. 0. 1. 0. 1. 0. 1. 1. 0. 0. 1. 0. 0. 1. 1. 0.\n",
            " 0. 0. 0. 1. 0. 0. 1. 1. 1. 1. 0. 1. 0. 0. 1. 0. 0. 1. 1. 0. 1. 0. 1. 1.\n",
            " 0. 1. 1. 1.]\n",
            "\n",
            " Objective function:\n",
            " -505.93200485229494\n"
          ],
          "name": "stdout"
        },
        {
          "output_type": "display_data",
          "data": {
            "image/png": "[encoded data removed]",
            "text/plain": [
              "<Figure size 432x288 with 1 Axes>"
            ]
          },
          "metadata": {
            "tags": [],
            "needs_background": "light"
          }
        }
      ]
    },
    {
      "cell_type": "code",
      "metadata": {
        "id": "uAwRM4-U3vsX",
        "outputId": "b14e1625-5bc4-4245-b85d-b5415c60f23e",
        "colab": {
          "base_uri": "https://localhost:8080/",
          "height": 136
        }
      },
      "source": [
        "model5.output_dict"
      ],
      "execution_count": null,
      "outputs": [
        {
          "output_type": "execute_result",
          "data": {
            "text/plain": [
              "{'function': -505.93200485229494,\n",
              " 'variable': array([1., 1., 1., 1., 0., 1., 1., 1., 1., 1., 1., 0., 0., 0., 1., 0., 0.,\n",
              "        1., 0., 1., 1., 0., 1., 0., 0., 0., 1., 0., 1., 0., 1., 0., 0., 1.,\n",
              "        1., 0., 0., 1., 0., 1., 1., 0., 1., 0., 0., 0., 1., 0., 0., 1., 1.,\n",
              "        0., 0., 0., 1., 0., 0., 0., 1., 0., 1., 0., 1., 1., 0., 0., 1., 0.,\n",
              "        0., 1., 1., 0., 0., 0., 0., 1., 0., 0., 1., 1., 1., 1., 0., 1., 0.,\n",
              "        0., 1., 0., 0., 1., 1., 0., 1., 0., 1., 1., 0., 1., 1., 1.])}"
            ]
          },
          "metadata": {
            "tags": []
          },
          "execution_count": 165
        }
      ]
    },
    {
      "cell_type": "code",
      "metadata": {
        "id": "C-7LxhSm33Dj"
      },
      "source": [
        "ans3 = np.array([1., 1., 1., 1., 0., 1., 1., 1., 1., 1., 1., 0., 0., 0., 1., 0., 0.,\n",
        "        1., 0., 1., 1., 0., 1., 0., 0., 0., 1., 0., 1., 0., 1., 0., 0., 1.,\n",
        "        1., 0., 0., 1., 0., 1., 1., 0., 1., 0., 0., 0., 1., 0., 0., 1., 1.,\n",
        "        0., 0., 0., 1., 0., 0., 0., 1., 0., 1., 0., 1., 1., 0., 0., 1., 0.,\n",
        "        0., 1., 1., 0., 0., 0., 0., 1., 0., 0., 1., 1., 1., 1., 0., 1., 0.,\n",
        "        0., 1., 0., 0., 1., 1., 0., 1., 0., 1., 1., 0., 1., 1., 1.]).reshape((10,10))"
      ],
      "execution_count": null,
      "outputs": []
    },
    {
      "cell_type": "code",
      "metadata": {
        "id": "2EY5wUeW55KF"
      },
      "source": [
        "convergence=model.report\n",
        "#solution=model.ouput_dict"
      ],
      "execution_count": null,
      "outputs": []
    },
    {
      "cell_type": "code",
      "metadata": {
        "id": "GV_HIeAAN9db"
      },
      "source": [
        "model.report"
      ],
      "execution_count": null,
      "outputs": []
    },
    {
      "cell_type": "code",
      "metadata": {
        "id": "lQCDeWQxOFzT"
      },
      "source": [
        "ans=[1,1,0, 1, 1,1,0,1,1, 1, 1,0,1,0,1,0,1,0,0,1,1,0,0,1,\n",
        "0,0,0,1,0,1,1,0,1,0,0,1,0,0,0,1,1,0,0,1,0,0,0,1,\n",
        "0,1,1,0,0, 1,0, 1,0,0,0,1,1,0,0,1,0,1,0,1,0,1,1,0,\n",
        "1,0,1,0,0,0,0,1,1,0,0,0,0,0,1,0,1,0,1,1,1,1,1,1,\n",
        "0,1,1,1,]"
      ],
      "execution_count": null,
      "outputs": []
    },
    {
      "cell_type": "code",
      "metadata": {
        "id": "e3qx5pJOOMy7"
      },
      "source": [
        "ans = np.array(ans).reshape((10,10))"
      ],
      "execution_count": null,
      "outputs": []
    },
    {
      "cell_type": "code",
      "metadata": {
        "id": "ywoORAisPYYT"
      },
      "source": [
        "k=0\n",
        "turbine_loc = test_loc.copy()\n",
        "for i in range(10):\n",
        "  for j in range(10):\n",
        "    if ans3[i][j]==1 :\n",
        "      turbine_loc.iat[k,0] = i*400 + 200\n",
        "      turbine_loc.iat[k,1] = j*400 + 200\n",
        "      k=k+1\n",
        "  \n",
        "turb_coords=turbine_loc.to_numpy()"
      ],
      "execution_count": null,
      "outputs": []
    },
    {
      "cell_type": "code",
      "metadata": {
        "id": "eDpzq2NrQH1L"
      },
      "source": [
        "turbine_loc.to_csv('sub8.csv',index=False)"
      ],
      "execution_count": null,
      "outputs": []
    },
    {
      "cell_type": "code",
      "metadata": {
        "id": "YfXXkc8EQR3F"
      },
      "source": [
        "algorithm_param = {'max_num_iteration': 1000,\\\n",
        "                   'population_size':500,\\\n",
        "                   'mutation_probability':0.1,\\\n",
        "                   'elit_ratio': 0.01,\\\n",
        "                   'crossover_probability': 0.5,\\\n",
        "                   'parents_portion': 0.3,\\\n",
        "                   'crossover_type':'uniform',\\\n",
        "                   'max_iteration_without_improv':300}"
      ],
      "execution_count": null,
      "outputs": []
    },
    {
      "cell_type": "code",
      "metadata": {
        "id": "xn4T2soeTnkF"
      },
      "source": [
        "model2 = ga(function=f,dimension=100, variable_type='bool',algorithm_parameters=algorithm_param)"
      ],
      "execution_count": null,
      "outputs": []
    },
    {
      "cell_type": "code",
      "metadata": {
        "id": "OSrskFAP4rBP"
      },
      "source": [
        "model6 = ga(function=f,dimension=100, variable_type='bool',algorithm_parameters=algorithm_param)"
      ],
      "execution_count": null,
      "outputs": []
    },
    {
      "cell_type": "code",
      "metadata": {
        "id": "pBCD-xRS43B9",
        "outputId": "0671397c-81c4-42ff-c610-46ef32da9fc4",
        "colab": {
          "base_uri": "https://localhost:8080/",
          "height": 68
        }
      },
      "source": [
        "wind.mean()"
      ],
      "execution_count": null,
      "outputs": [
        {
          "output_type": "execute_result",
          "data": {
            "text/plain": [
              "drct    199.194345\n",
              "sped      8.882134\n",
              "dtype: float64"
            ]
          },
          "metadata": {
            "tags": []
          },
          "execution_count": 181
        }
      ]
    },
    {
      "cell_type": "code",
      "metadata": {
        "id": "ZRpalhA1TxQn",
        "outputId": "88657d67-3faa-4148-d1d6-1ddc2962a031",
        "colab": {
          "base_uri": "https://localhost:8080/",
          "height": 448
        }
      },
      "source": [
        "model2.run()"
      ],
      "execution_count": null,
      "outputs": [
        {
          "output_type": "stream",
          "text": [
            " The best solution found:\n",
            " [1. 1. 0. 1. 1. 1. 0. 1. 1. 1. 1. 0. 1. 0. 0. 1. 0. 1. 0. 1. 1. 0. 0. 0.\n",
            " 1. 0. 0. 0. 0. 1. 1. 0. 1. 0. 0. 0. 1. 0. 1. 1. 1. 0. 0. 0. 1. 0. 0. 1.\n",
            " 0. 1. 1. 0. 1. 0. 0. 0. 1. 0. 0. 1. 1. 0. 0. 0. 1. 0. 0. 0. 1. 1. 1. 0.\n",
            " 1. 0. 0. 1. 0. 1. 0. 1. 1. 0. 0. 0. 1. 0. 0. 0. 0. 1. 1. 1. 1. 1. 0. 1.\n",
            " 1. 1. 1. 1.]\n",
            "\n",
            " Objective function:\n",
            " -508.86328857421876\n"
          ],
          "name": "stdout"
        },
        {
          "output_type": "display_data",
          "data": {
            "image/png": "[encoded data removed]",
            "text/plain": [
              "<Figure size 432x288 with 1 Axes>"
            ]
          },
          "metadata": {
            "tags": [],
            "needs_background": "light"
          }
        }
      ]
    },
    {
      "cell_type": "code",
      "metadata": {
        "id": "m0HTX4v1Tyte"
      },
      "source": [
        "ans2 = [1, 1,0,1,1,1,0,1,1,1,1,0,1,0,0,1,0,1,0,1,1,0,0,0,\n",
        "1,0, 0, 0,0,1,1,0,1,0,0,0,1,0,1,1,1,0,0,0,1,0,0,1,\n",
        "0,1, 1, 0,1,0,0,0,1,0,0,1,1,0,0,0,1,0,0,0,1,1,1,0,\n",
        "1,0, 0, 1,0,1,0,1,1,0,0,0,1,0,0,0,0,1,1,1,1,1,0,1,\n",
        "1,1, 1, 1,]"
      ],
      "execution_count": null,
      "outputs": []
    },
    {
      "cell_type": "code",
      "metadata": {
        "id": "-GwhzG4rj98k"
      },
      "source": [
        "ans2 = np.array(ans2).reshape((10,10))\n",
        "k=0\n",
        "\n",
        "for i in range(10):\n",
        "  for j in range(10):\n",
        "    if ans2[i][j]==1 :\n",
        "      turbine_loc.iat[k,0] = i*400 + 200\n",
        "      turbine_loc.iat[k,1] = j*400 + 200\n",
        "      k=k+1\n",
        "  \n",
        "turbine_loc.to_csv('sub6.csv',index=False)"
      ],
      "execution_count": null,
      "outputs": []
    },
    {
      "cell_type": "code",
      "metadata": {
        "id": "BGz41cfvjA_X"
      },
      "source": [
        "model4 = ga(function=f,dimension=100, variable_type='bool',algorithm_parameters=algorithm_param)"
      ],
      "execution_count": null,
      "outputs": []
    },
    {
      "cell_type": "code",
      "metadata": {
        "id": "ZprlG2WljAbo",
        "outputId": "4d387f12-c2c6-49f9-8fc3-5f54af10d532",
        "colab": {
          "base_uri": "https://localhost:8080/",
          "height": 482
        }
      },
      "source": [
        "model4.run()"
      ],
      "execution_count": null,
      "outputs": [
        {
          "output_type": "stream",
          "text": [
            " The best solution found:\n",
            " [1. 0. 0. 1. 1. 0. 0. 0. 0. 1. 1. 0. 0. 1. 1. 1. 0. 0. 1. 1. 1. 0. 0. 1.\n",
            " 1. 1. 1. 0. 1. 0. 1. 0. 1. 0. 1. 1. 0. 0. 0. 1. 1. 1. 0. 0. 1. 0. 1. 0.\n",
            " 1. 1. 1. 0. 0. 1. 1. 1. 1. 0. 0. 0. 1. 1. 1. 0. 0. 1. 1. 1. 0. 1. 0. 0.\n",
            " 1. 0. 1. 1. 0. 1. 0. 1. 1. 1. 0. 1. 1. 0. 1. 1. 1. 1. 1. 1. 0. 1. 1. 0.\n",
            " 1. 0. 1. 1.]\n",
            "\n",
            " Objective function:\n",
            " 0\n"
          ],
          "name": "stdout"
        },
        {
          "output_type": "display_data",
          "data": {
            "image/png": "[encoded data removed]",
            "text/plain": [
              "<Figure size 432x288 with 1 Axes>"
            ]
          },
          "metadata": {
            "tags": [],
            "needs_background": "light"
          }
        },
        {
          "output_type": "stream",
          "text": [
            "\n",
            "Warning: GA is terminated due to the maximum number of iterations without improvement was met!"
          ],
          "name": "stdout"
        }
      ]
    },
    {
      "cell_type": "code",
      "metadata": {
        "id": "AHtk3VtdjAJS"
      },
      "source": [
        ""
      ],
      "execution_count": null,
      "outputs": []
    },
    {
      "cell_type": "code",
      "metadata": {
        "id": "wrtD2ng7kOss"
      },
      "source": [
        "def f2(X):\n",
        "  x,y = np.split(X,2)\n",
        "  pen=0\n",
        "  for i in range(50):\n",
        "    for j in range(i+1,50):\n",
        "      if (x[i]-x[j])**2 + (y[i]-y[j])**2 <400 :\n",
        "        pen = pen + 10  \n",
        "    turbine_loc.iat[i,0] = x[i]\n",
        "    turbine_loc.iat[i,1] = y[j]\n",
        "  return pen\n",
        "  turb_coords=turbine_loc.to_numpy()\n",
        "  AEP = getAEP(turb_rad, turb_coords, power_curve, wind_inst_freq, \n",
        "                  n_wind_instances, cos_dir, sin_dir, wind_sped_stacked, C_t) \n",
        "  return -AEP"
      ],
      "execution_count": null,
      "outputs": []
    },
    {
      "cell_type": "code",
      "metadata": {
        "id": "WYSi8uX6GlYs"
      },
      "source": [
        "algorithm_param = {'max_num_iteration': 5000,\\\n",
        "                   'population_size':200,\\\n",
        "                   'mutation_probability':0.1,\\\n",
        "                   'elit_ratio': 0.01,\\\n",
        "                   'crossover_probability': 0.5,\\\n",
        "                   'parents_portion': 0.3,\\\n",
        "                   'crossover_type':'uniform',\\\n",
        "                   'max_iteration_without_improv':2000}"
      ],
      "execution_count": null,
      "outputs": []
    },
    {
      "cell_type": "code",
      "metadata": {
        "id": "STF5F8HnFm0r"
      },
      "source": [
        "varbound=np.array([[50,3950]]*100)\n",
        "model3=ga(function=f2,dimension=100,variable_type='real',variable_boundaries=varbound,algorithm_parameters=algorithm_param)"
      ],
      "execution_count": null,
      "outputs": []
    },
    {
      "cell_type": "code",
      "metadata": {
        "id": "wAVt3QbsTc2o",
        "outputId": "4f3c293a-7f7b-40cf-d452-a305d5bb6029",
        "colab": {
          "base_uri": "https://localhost:8080/",
          "height": 282
        }
      },
      "source": [
        "import matplotlib.pyplot as plt\n",
        "plt.scatter(x,y)"
      ],
      "execution_count": null,
      "outputs": [
        {
          "output_type": "execute_result",
          "data": {
            "text/plain": [
              "<matplotlib.collections.PathCollection at 0x7f2b6ed406a0>"
            ]
          },
          "metadata": {
            "tags": []
          },
          "execution_count": 132
        },
        {
          "output_type": "display_data",
          "data": {
            "image/png": "[encoded data removed]",
            "text/plain": [
              "<Figure size 432x288 with 1 Axes>"
            ]
          },
          "metadata": {
            "tags": [],
            "needs_background": "light"
          }
        }
      ]
    },
    {
      "cell_type": "code",
      "metadata": {
        "id": "dblDenrVS1xv",
        "outputId": "a2d31e51-717d-4df4-e377-d4796eb7c53b",
        "colab": {
          "base_uri": "https://localhost:8080/",
          "height": 34
        }
      },
      "source": [
        "pen"
      ],
      "execution_count": null,
      "outputs": [
        {
          "output_type": "execute_result",
          "data": {
            "text/plain": [
              "25000"
            ]
          },
          "metadata": {
            "tags": []
          },
          "execution_count": 108
        }
      ]
    },
    {
      "cell_type": "code",
      "metadata": {
        "id": "obPjaXnlRxoL"
      },
      "source": [
        "for i in range(50):\n",
        "  turbine_loc.iat[i,0] = x[i]\n",
        "  turbine_loc.iat[i,1] = y[j]"
      ],
      "execution_count": null,
      "outputs": []
    },
    {
      "cell_type": "code",
      "metadata": {
        "id": "utSD0AG5Wk6a",
        "outputId": "37619270-2a3d-4e73-9ce8-153f1bb28002",
        "colab": {
          "base_uri": "https://localhost:8080/",
          "height": 34
        }
      },
      "source": [
        "getAEP(turb_rad, turb_coords, power_curve, wind_inst_freq, \n",
        "                  n_wind_instances, cos_dir, sin_dir, wind_sped_stacked, C_t) "
      ],
      "execution_count": null,
      "outputs": [
        {
          "output_type": "execute_result",
          "data": {
            "text/plain": [
              "372.58497802734377"
            ]
          },
          "metadata": {
            "tags": []
          },
          "execution_count": 135
        }
      ]
    },
    {
      "cell_type": "code",
      "metadata": {
        "id": "jlZFlO94Wm3k"
      },
      "source": [
        "turbine_loc.to_csv('sub7.csv',index=False)"
      ],
      "execution_count": null,
      "outputs": []
    },
    {
      "cell_type": "code",
      "metadata": {
        "id": "UtztSpxplMNx"
      },
      "source": [
        ""
      ],
      "execution_count": null,
      "outputs": []
    }
  ]
}